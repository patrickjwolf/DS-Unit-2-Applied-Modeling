{
  "nbformat": 4,
  "nbformat_minor": 0,
  "metadata": {
    "colab": {
      "name": "Unit_2_Week_2.ipynb",
      "provenance": [],
      "collapsed_sections": [],
      "include_colab_link": true
    },
    "kernelspec": {
      "name": "python3",
      "display_name": "Python 3"
    }
  },
  "cells": [
    {
      "cell_type": "markdown",
      "metadata": {
        "id": "view-in-github",
        "colab_type": "text"
      },
      "source": [
        "<a href=\"https://colab.research.google.com/github/patrickjwolf/DS-Unit-2-Applied-Modeling/blob/master/module1/Unit_2_Week_3.ipynb\" target=\"_parent\"><img src=\"https://colab.research.google.com/assets/colab-badge.svg\" alt=\"Open In Colab\"/></a>"
      ]
    },
    {
      "cell_type": "code",
      "metadata": {
        "id": "IMlLr9xqdn1-",
        "colab_type": "code",
        "colab": {}
      },
      "source": [
        "%%capture\n",
        "import sys\n",
        "!pip install category_encoders==2.*\n",
        "\n",
        "import pandas as pd"
      ],
      "execution_count": 0,
      "outputs": []
    },
    {
      "cell_type": "code",
      "metadata": {
        "id": "HDEfUOwNdsks",
        "colab_type": "code",
        "outputId": "843632a0-a6ec-41f1-eb46-226e6227b2db",
        "colab": {
          "resources": {
            "http://localhost:8080/nbextensions/google.colab/files.js": {
              "data": "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",
              "ok": true,
              "headers": [
                [
                  "content-type",
                  "application/javascript"
                ]
              ],
              "status": 200,
              "status_text": ""
            }
          },
          "base_uri": "https://localhost:8080/",
          "height": 74
        }
      },
      "source": [
        "from google.colab import files\n",
        "uploaded = files.upload()"
      ],
      "execution_count": 3,
      "outputs": [
        {
          "output_type": "display_data",
          "data": {
            "text/html": [
              "\n",
              "     <input type=\"file\" id=\"files-a7b1a4bd-9c83-490d-9215-65b5d6f7cdc9\" name=\"files[]\" multiple disabled />\n",
              "     <output id=\"result-a7b1a4bd-9c83-490d-9215-65b5d6f7cdc9\">\n",
              "      Upload widget is only available when the cell has been executed in the\n",
              "      current browser session. Please rerun this cell to enable.\n",
              "      </output>\n",
              "      <script src=\"/nbextensions/google.colab/files.js\"></script> "
            ],
            "text/plain": [
              "<IPython.core.display.HTML object>"
            ]
          },
          "metadata": {
            "tags": []
          }
        },
        {
          "output_type": "stream",
          "text": [
            "Saving countypres_2000-2016.csv to countypres_2000-2016.csv\n"
          ],
          "name": "stdout"
        }
      ]
    },
    {
      "cell_type": "code",
      "metadata": {
        "id": "CIXokEhsdsVZ",
        "colab_type": "code",
        "colab": {}
      },
      "source": [
        "df = pd.read_csv('countypres_2000-2016.csv')"
      ],
      "execution_count": 0,
      "outputs": []
    },
    {
      "cell_type": "code",
      "metadata": {
        "id": "Yrd-SvGQdsxd",
        "colab_type": "code",
        "outputId": "55fb81a3-22dc-47f9-b0f1-ead39d473510",
        "colab": {
          "base_uri": "https://localhost:8080/",
          "height": 34
        }
      },
      "source": [
        "df.shape"
      ],
      "execution_count": 5,
      "outputs": [
        {
          "output_type": "execute_result",
          "data": {
            "text/plain": [
              "(50524, 11)"
            ]
          },
          "metadata": {
            "tags": []
          },
          "execution_count": 5
        }
      ]
    },
    {
      "cell_type": "code",
      "metadata": {
        "id": "1s6LIlgqi0D9",
        "colab_type": "code",
        "outputId": "159658fd-d217-4661-e637-26cc5d280fbf",
        "colab": {
          "base_uri": "https://localhost:8080/",
          "height": 419
        }
      },
      "source": [
        "df"
      ],
      "execution_count": 6,
      "outputs": [
        {
          "output_type": "execute_result",
          "data": {
            "text/html": [
              "<div>\n",
              "<style scoped>\n",
              "    .dataframe tbody tr th:only-of-type {\n",
              "        vertical-align: middle;\n",
              "    }\n",
              "\n",
              "    .dataframe tbody tr th {\n",
              "        vertical-align: top;\n",
              "    }\n",
              "\n",
              "    .dataframe thead th {\n",
              "        text-align: right;\n",
              "    }\n",
              "</style>\n",
              "<table border=\"1\" class=\"dataframe\">\n",
              "  <thead>\n",
              "    <tr style=\"text-align: right;\">\n",
              "      <th></th>\n",
              "      <th>year</th>\n",
              "      <th>state</th>\n",
              "      <th>state_po</th>\n",
              "      <th>county</th>\n",
              "      <th>FIPS</th>\n",
              "      <th>office</th>\n",
              "      <th>candidate</th>\n",
              "      <th>party</th>\n",
              "      <th>candidatevotes</th>\n",
              "      <th>totalvotes</th>\n",
              "      <th>version</th>\n",
              "    </tr>\n",
              "  </thead>\n",
              "  <tbody>\n",
              "    <tr>\n",
              "      <th>0</th>\n",
              "      <td>2000</td>\n",
              "      <td>Alabama</td>\n",
              "      <td>AL</td>\n",
              "      <td>Autauga</td>\n",
              "      <td>1001.0</td>\n",
              "      <td>President</td>\n",
              "      <td>Al Gore</td>\n",
              "      <td>democrat</td>\n",
              "      <td>4942.0</td>\n",
              "      <td>17208</td>\n",
              "      <td>20191203</td>\n",
              "    </tr>\n",
              "    <tr>\n",
              "      <th>1</th>\n",
              "      <td>2000</td>\n",
              "      <td>Alabama</td>\n",
              "      <td>AL</td>\n",
              "      <td>Autauga</td>\n",
              "      <td>1001.0</td>\n",
              "      <td>President</td>\n",
              "      <td>George W. Bush</td>\n",
              "      <td>republican</td>\n",
              "      <td>11993.0</td>\n",
              "      <td>17208</td>\n",
              "      <td>20191203</td>\n",
              "    </tr>\n",
              "    <tr>\n",
              "      <th>2</th>\n",
              "      <td>2000</td>\n",
              "      <td>Alabama</td>\n",
              "      <td>AL</td>\n",
              "      <td>Autauga</td>\n",
              "      <td>1001.0</td>\n",
              "      <td>President</td>\n",
              "      <td>Ralph Nader</td>\n",
              "      <td>green</td>\n",
              "      <td>160.0</td>\n",
              "      <td>17208</td>\n",
              "      <td>20191203</td>\n",
              "    </tr>\n",
              "    <tr>\n",
              "      <th>3</th>\n",
              "      <td>2000</td>\n",
              "      <td>Alabama</td>\n",
              "      <td>AL</td>\n",
              "      <td>Autauga</td>\n",
              "      <td>1001.0</td>\n",
              "      <td>President</td>\n",
              "      <td>Other</td>\n",
              "      <td>NaN</td>\n",
              "      <td>113.0</td>\n",
              "      <td>17208</td>\n",
              "      <td>20191203</td>\n",
              "    </tr>\n",
              "    <tr>\n",
              "      <th>4</th>\n",
              "      <td>2000</td>\n",
              "      <td>Alabama</td>\n",
              "      <td>AL</td>\n",
              "      <td>Baldwin</td>\n",
              "      <td>1003.0</td>\n",
              "      <td>President</td>\n",
              "      <td>Al Gore</td>\n",
              "      <td>democrat</td>\n",
              "      <td>13997.0</td>\n",
              "      <td>56480</td>\n",
              "      <td>20191203</td>\n",
              "    </tr>\n",
              "    <tr>\n",
              "      <th>...</th>\n",
              "      <td>...</td>\n",
              "      <td>...</td>\n",
              "      <td>...</td>\n",
              "      <td>...</td>\n",
              "      <td>...</td>\n",
              "      <td>...</td>\n",
              "      <td>...</td>\n",
              "      <td>...</td>\n",
              "      <td>...</td>\n",
              "      <td>...</td>\n",
              "      <td>...</td>\n",
              "    </tr>\n",
              "    <tr>\n",
              "      <th>50519</th>\n",
              "      <td>2016</td>\n",
              "      <td>Alaska</td>\n",
              "      <td>AK</td>\n",
              "      <td>District 40</td>\n",
              "      <td>2040.0</td>\n",
              "      <td>President</td>\n",
              "      <td>Donald Trump</td>\n",
              "      <td>republican</td>\n",
              "      <td>1377.0</td>\n",
              "      <td>4610</td>\n",
              "      <td>20191203</td>\n",
              "    </tr>\n",
              "    <tr>\n",
              "      <th>50520</th>\n",
              "      <td>2016</td>\n",
              "      <td>Alaska</td>\n",
              "      <td>AK</td>\n",
              "      <td>District 40</td>\n",
              "      <td>2040.0</td>\n",
              "      <td>President</td>\n",
              "      <td>Other</td>\n",
              "      <td>NaN</td>\n",
              "      <td>895.0</td>\n",
              "      <td>4610</td>\n",
              "      <td>20191203</td>\n",
              "    </tr>\n",
              "    <tr>\n",
              "      <th>50521</th>\n",
              "      <td>2016</td>\n",
              "      <td>Alaska</td>\n",
              "      <td>NaN</td>\n",
              "      <td>District 99</td>\n",
              "      <td>2099.0</td>\n",
              "      <td>President</td>\n",
              "      <td>Hillary Clinton</td>\n",
              "      <td>democrat</td>\n",
              "      <td>274.0</td>\n",
              "      <td>5056</td>\n",
              "      <td>20191203</td>\n",
              "    </tr>\n",
              "    <tr>\n",
              "      <th>50522</th>\n",
              "      <td>2016</td>\n",
              "      <td>Alaska</td>\n",
              "      <td>NaN</td>\n",
              "      <td>District 99</td>\n",
              "      <td>2099.0</td>\n",
              "      <td>President</td>\n",
              "      <td>Donald Trump</td>\n",
              "      <td>republican</td>\n",
              "      <td>40.0</td>\n",
              "      <td>5056</td>\n",
              "      <td>20191203</td>\n",
              "    </tr>\n",
              "    <tr>\n",
              "      <th>50523</th>\n",
              "      <td>2016</td>\n",
              "      <td>Alaska</td>\n",
              "      <td>NaN</td>\n",
              "      <td>District 99</td>\n",
              "      <td>2099.0</td>\n",
              "      <td>President</td>\n",
              "      <td>Other</td>\n",
              "      <td>NaN</td>\n",
              "      <td>28.0</td>\n",
              "      <td>5056</td>\n",
              "      <td>20191203</td>\n",
              "    </tr>\n",
              "  </tbody>\n",
              "</table>\n",
              "<p>50524 rows × 11 columns</p>\n",
              "</div>"
            ],
            "text/plain": [
              "       year    state state_po  ... candidatevotes  totalvotes   version\n",
              "0      2000  Alabama       AL  ...         4942.0       17208  20191203\n",
              "1      2000  Alabama       AL  ...        11993.0       17208  20191203\n",
              "2      2000  Alabama       AL  ...          160.0       17208  20191203\n",
              "3      2000  Alabama       AL  ...          113.0       17208  20191203\n",
              "4      2000  Alabama       AL  ...        13997.0       56480  20191203\n",
              "...     ...      ...      ...  ...            ...         ...       ...\n",
              "50519  2016   Alaska       AK  ...         1377.0        4610  20191203\n",
              "50520  2016   Alaska       AK  ...          895.0        4610  20191203\n",
              "50521  2016   Alaska      NaN  ...          274.0        5056  20191203\n",
              "50522  2016   Alaska      NaN  ...           40.0        5056  20191203\n",
              "50523  2016   Alaska      NaN  ...           28.0        5056  20191203\n",
              "\n",
              "[50524 rows x 11 columns]"
            ]
          },
          "metadata": {
            "tags": []
          },
          "execution_count": 6
        }
      ]
    },
    {
      "cell_type": "code",
      "metadata": {
        "id": "ZFH9cyDgA4Dh",
        "colab_type": "code",
        "colab": {}
      },
      "source": [
        "import pandas_profiling"
      ],
      "execution_count": 0,
      "outputs": []
    },
    {
      "cell_type": "code",
      "metadata": {
        "id": "lkw1zHOyk4cx",
        "colab_type": "code",
        "colab": {}
      },
      "source": [
        "df['percent_of_votes'] = df['candidatevotes']/df['totalvotes']"
      ],
      "execution_count": 0,
      "outputs": []
    },
    {
      "cell_type": "code",
      "metadata": {
        "id": "ES8hKN2MfFH7",
        "colab_type": "code",
        "outputId": "e19509dd-10f6-4091-aa30-4168aa94bfb6",
        "colab": {
          "base_uri": "https://localhost:8080/",
          "height": 238
        }
      },
      "source": [
        "df.dtypes"
      ],
      "execution_count": 12,
      "outputs": [
        {
          "output_type": "execute_result",
          "data": {
            "text/plain": [
              "year                  int64\n",
              "state                object\n",
              "state_po             object\n",
              "county               object\n",
              "FIPS                float64\n",
              "office               object\n",
              "candidate            object\n",
              "party                object\n",
              "candidatevotes      float64\n",
              "totalvotes            int64\n",
              "version               int64\n",
              "percent_of_votes    float64\n",
              "dtype: object"
            ]
          },
          "metadata": {
            "tags": []
          },
          "execution_count": 12
        }
      ]
    },
    {
      "cell_type": "code",
      "metadata": {
        "id": "msLWH_evfFYn",
        "colab_type": "code",
        "outputId": "e5d24f1d-6f34-46e6-a132-3e9a44f49d6a",
        "colab": {
          "base_uri": "https://localhost:8080/",
          "height": 238
        }
      },
      "source": [
        "df.isnull().sum()"
      ],
      "execution_count": 13,
      "outputs": [
        {
          "output_type": "execute_result",
          "data": {
            "text/plain": [
              "year                    0\n",
              "state                   0\n",
              "state_po               64\n",
              "county                  0\n",
              "FIPS                   48\n",
              "office                  0\n",
              "candidate               0\n",
              "party               15789\n",
              "candidatevotes        404\n",
              "totalvotes              0\n",
              "version                 0\n",
              "percent_of_votes      404\n",
              "dtype: int64"
            ]
          },
          "metadata": {
            "tags": []
          },
          "execution_count": 13
        }
      ]
    },
    {
      "cell_type": "code",
      "metadata": {
        "id": "z_YfEVELfFgA",
        "colab_type": "code",
        "outputId": "93b419a3-e7fb-478b-c3e6-cbbdf3b6d426",
        "colab": {
          "base_uri": "https://localhost:8080/",
          "height": 297
        }
      },
      "source": [
        "df.describe()"
      ],
      "execution_count": 14,
      "outputs": [
        {
          "output_type": "execute_result",
          "data": {
            "text/html": [
              "<div>\n",
              "<style scoped>\n",
              "    .dataframe tbody tr th:only-of-type {\n",
              "        vertical-align: middle;\n",
              "    }\n",
              "\n",
              "    .dataframe tbody tr th {\n",
              "        vertical-align: top;\n",
              "    }\n",
              "\n",
              "    .dataframe thead th {\n",
              "        text-align: right;\n",
              "    }\n",
              "</style>\n",
              "<table border=\"1\" class=\"dataframe\">\n",
              "  <thead>\n",
              "    <tr style=\"text-align: right;\">\n",
              "      <th></th>\n",
              "      <th>year</th>\n",
              "      <th>FIPS</th>\n",
              "      <th>candidatevotes</th>\n",
              "      <th>totalvotes</th>\n",
              "      <th>version</th>\n",
              "      <th>percent_of_votes</th>\n",
              "    </tr>\n",
              "  </thead>\n",
              "  <tbody>\n",
              "    <tr>\n",
              "      <th>count</th>\n",
              "      <td>50524.000000</td>\n",
              "      <td>50476.000000</td>\n",
              "      <td>5.012000e+04</td>\n",
              "      <td>5.052400e+04</td>\n",
              "      <td>50524.0</td>\n",
              "      <td>50120.000000</td>\n",
              "    </tr>\n",
              "    <tr>\n",
              "      <th>mean</th>\n",
              "      <td>2007.500594</td>\n",
              "      <td>30289.728980</td>\n",
              "      <td>1.246028e+04</td>\n",
              "      <td>3.918383e+04</td>\n",
              "      <td>20191203.0</td>\n",
              "      <td>0.314603</td>\n",
              "    </tr>\n",
              "    <tr>\n",
              "      <th>std</th>\n",
              "      <td>5.809379</td>\n",
              "      <td>15233.456362</td>\n",
              "      <td>4.761937e+04</td>\n",
              "      <td>1.128238e+05</td>\n",
              "      <td>0.0</td>\n",
              "      <td>0.264512</td>\n",
              "    </tr>\n",
              "    <tr>\n",
              "      <th>min</th>\n",
              "      <td>2000.000000</td>\n",
              "      <td>1001.000000</td>\n",
              "      <td>0.000000e+00</td>\n",
              "      <td>0.000000e+00</td>\n",
              "      <td>20191203.0</td>\n",
              "      <td>0.000000</td>\n",
              "    </tr>\n",
              "    <tr>\n",
              "      <th>25%</th>\n",
              "      <td>2004.000000</td>\n",
              "      <td>18161.000000</td>\n",
              "      <td>2.930000e+02</td>\n",
              "      <td>4.800750e+03</td>\n",
              "      <td>20191203.0</td>\n",
              "      <td>0.022464</td>\n",
              "    </tr>\n",
              "    <tr>\n",
              "      <th>50%</th>\n",
              "      <td>2008.000000</td>\n",
              "      <td>29167.000000</td>\n",
              "      <td>2.181000e+03</td>\n",
              "      <td>1.039800e+04</td>\n",
              "      <td>20191203.0</td>\n",
              "      <td>0.327248</td>\n",
              "    </tr>\n",
              "    <tr>\n",
              "      <th>75%</th>\n",
              "      <td>2012.000000</td>\n",
              "      <td>45077.000000</td>\n",
              "      <td>7.424250e+03</td>\n",
              "      <td>2.663900e+04</td>\n",
              "      <td>20191203.0</td>\n",
              "      <td>0.539318</td>\n",
              "    </tr>\n",
              "    <tr>\n",
              "      <th>max</th>\n",
              "      <td>2016.000000</td>\n",
              "      <td>56045.000000</td>\n",
              "      <td>2.464364e+06</td>\n",
              "      <td>3.434308e+06</td>\n",
              "      <td>20191203.0</td>\n",
              "      <td>0.960334</td>\n",
              "    </tr>\n",
              "  </tbody>\n",
              "</table>\n",
              "</div>"
            ],
            "text/plain": [
              "               year          FIPS  ...     version  percent_of_votes\n",
              "count  50524.000000  50476.000000  ...     50524.0      50120.000000\n",
              "mean    2007.500594  30289.728980  ...  20191203.0          0.314603\n",
              "std        5.809379  15233.456362  ...         0.0          0.264512\n",
              "min     2000.000000   1001.000000  ...  20191203.0          0.000000\n",
              "25%     2004.000000  18161.000000  ...  20191203.0          0.022464\n",
              "50%     2008.000000  29167.000000  ...  20191203.0          0.327248\n",
              "75%     2012.000000  45077.000000  ...  20191203.0          0.539318\n",
              "max     2016.000000  56045.000000  ...  20191203.0          0.960334\n",
              "\n",
              "[8 rows x 6 columns]"
            ]
          },
          "metadata": {
            "tags": []
          },
          "execution_count": 14
        }
      ]
    },
    {
      "cell_type": "code",
      "metadata": {
        "id": "qG89h5Ng-MOm",
        "colab_type": "code",
        "outputId": "4d9d71d9-d245-433f-c08a-ae83916d42ca",
        "colab": {
          "base_uri": "https://localhost:8080/",
          "height": 34
        }
      },
      "source": [
        "df.groupby([\"state\", \"year\"])[\"percent_of_votes\"]"
      ],
      "execution_count": 38,
      "outputs": [
        {
          "output_type": "execute_result",
          "data": {
            "text/plain": [
              "<pandas.core.groupby.generic.SeriesGroupBy object at 0x7f9e5c42d2b0>"
            ]
          },
          "metadata": {
            "tags": []
          },
          "execution_count": 38
        }
      ]
    },
    {
      "cell_type": "code",
      "metadata": {
        "id": "KhX0brDrfFTc",
        "colab_type": "code",
        "outputId": "cc5cf5ad-d366-43bb-fac6-c945f988b9ad",
        "colab": {
          "base_uri": "https://localhost:8080/",
          "height": 204
        }
      },
      "source": [
        "df['candidate'].value_counts()"
      ],
      "execution_count": 39,
      "outputs": [
        {
          "output_type": "execute_result",
          "data": {
            "text/plain": [
              "Other              15789\n",
              "Barack Obama        6316\n",
              "George W. Bush      6315\n",
              "John Kerry          3158\n",
              "John McCain         3158\n",
              "Donald Trump        3158\n",
              "Mitt Romney         3158\n",
              "Hillary Clinton     3158\n",
              "Al Gore             3157\n",
              "Ralph Nader         3157\n",
              "Name: candidate, dtype: int64"
            ]
          },
          "metadata": {
            "tags": []
          },
          "execution_count": 39
        }
      ]
    },
    {
      "cell_type": "code",
      "metadata": {
        "id": "RS6hmLgyaKUL",
        "colab_type": "code",
        "colab": {}
      },
      "source": [
        "y = df.groupby([\"state\", \"year\"])[\"percent_of_votes\"]"
      ],
      "execution_count": 0,
      "outputs": []
    },
    {
      "cell_type": "code",
      "metadata": {
        "id": "Ajejxiv6Gl9-",
        "colab_type": "code",
        "outputId": "cab46035-772d-4259-ae69-2325fc3e11e4",
        "colab": {
          "base_uri": "https://localhost:8080/",
          "height": 238
        }
      },
      "source": [
        "y.nunique()"
      ],
      "execution_count": 41,
      "outputs": [
        {
          "output_type": "execute_result",
          "data": {
            "text/plain": [
              "state    year\n",
              "Alabama  2000    267\n",
              "         2004    201\n",
              "         2008    201\n",
              "         2012    201\n",
              "         2016    201\n",
              "                ... \n",
              "Wyoming  2000     92\n",
              "         2004     69\n",
              "         2008     69\n",
              "         2012     69\n",
              "         2016     69\n",
              "Name: percent_of_votes, Length: 255, dtype: int64"
            ]
          },
          "metadata": {
            "tags": []
          },
          "execution_count": 41
        }
      ]
    },
    {
      "cell_type": "code",
      "metadata": {
        "id": "3GQ_i8BfHDBd",
        "colab_type": "code",
        "outputId": "51d934b0-41ac-494f-f00a-778d76c3bb47",
        "colab": {
          "base_uri": "https://localhost:8080/",
          "height": 34
        }
      },
      "source": [
        "df.groupby([\"state\", \"year\"])[\"percent_of_votes\"].unique"
      ],
      "execution_count": 42,
      "outputs": [
        {
          "output_type": "execute_result",
          "data": {
            "text/plain": [
              "<function pandas.core.groupby.groupby._GroupBy._make_wrapper.<locals>.wrapper>"
            ]
          },
          "metadata": {
            "tags": []
          },
          "execution_count": 42
        }
      ]
    },
    {
      "cell_type": "code",
      "metadata": {
        "id": "BpjGgERcHDOC",
        "colab_type": "code",
        "outputId": "1139f09b-6c59-434f-8367-ef4d37578923",
        "colab": {
          "base_uri": "https://localhost:8080/",
          "height": 238
        }
      },
      "source": [
        "df.isna().sum().sort_values()"
      ],
      "execution_count": 43,
      "outputs": [
        {
          "output_type": "execute_result",
          "data": {
            "text/plain": [
              "year                    0\n",
              "state                   0\n",
              "county                  0\n",
              "office                  0\n",
              "candidate               0\n",
              "totalvotes              0\n",
              "version                 0\n",
              "FIPS                   48\n",
              "state_po               64\n",
              "candidatevotes        404\n",
              "percent_of_votes      404\n",
              "party               15789\n",
              "dtype: int64"
            ]
          },
          "metadata": {
            "tags": []
          },
          "execution_count": 43
        }
      ]
    },
    {
      "cell_type": "code",
      "metadata": {
        "id": "1BjpdgmWJFLx",
        "colab_type": "code",
        "outputId": "e7b93363-c336-4330-a585-41712e588426",
        "colab": {
          "base_uri": "https://localhost:8080/",
          "height": 238
        }
      },
      "source": [
        "df.isna().sum().sort_values()"
      ],
      "execution_count": 44,
      "outputs": [
        {
          "output_type": "execute_result",
          "data": {
            "text/plain": [
              "year                    0\n",
              "state                   0\n",
              "county                  0\n",
              "office                  0\n",
              "candidate               0\n",
              "totalvotes              0\n",
              "version                 0\n",
              "FIPS                   48\n",
              "state_po               64\n",
              "candidatevotes        404\n",
              "percent_of_votes      404\n",
              "party               15789\n",
              "dtype: int64"
            ]
          },
          "metadata": {
            "tags": []
          },
          "execution_count": 44
        }
      ]
    },
    {
      "cell_type": "code",
      "metadata": {
        "id": "ZOs038bZHDgH",
        "colab_type": "code",
        "colab": {}
      },
      "source": [
        "df = df.fillna('Missing')"
      ],
      "execution_count": 0,
      "outputs": []
    },
    {
      "cell_type": "code",
      "metadata": {
        "id": "wqELuYjpJOm2",
        "colab_type": "code",
        "colab": {}
      },
      "source": [
        "train = df[df['year'] <= 2011]\n",
        "val = df[df['year'] == 2012]\n",
        "test = df[df['year'] >= 2016]"
      ],
      "execution_count": 0,
      "outputs": []
    },
    {
      "cell_type": "code",
      "metadata": {
        "id": "at6pDW9BTuON",
        "colab_type": "code",
        "outputId": "b77dcb89-e358-4556-de03-24abf86277ef",
        "colab": {
          "base_uri": "https://localhost:8080/",
          "height": 34
        }
      },
      "source": [
        "train.shape, val.shape, test.shape"
      ],
      "execution_count": 47,
      "outputs": [
        {
          "output_type": "execute_result",
          "data": {
            "text/plain": [
              "((31576, 12), (9474, 12), (9474, 12))"
            ]
          },
          "metadata": {
            "tags": []
          },
          "execution_count": 47
        }
      ]
    },
    {
      "cell_type": "code",
      "metadata": {
        "id": "eNnUQXM3T8Cw",
        "colab_type": "code",
        "outputId": "a2e584d3-fb8e-406e-bab0-e89fd81a1202",
        "colab": {
          "base_uri": "https://localhost:8080/",
          "height": 419
        }
      },
      "source": [
        "test"
      ],
      "execution_count": 48,
      "outputs": [
        {
          "output_type": "execute_result",
          "data": {
            "text/html": [
              "<div>\n",
              "<style scoped>\n",
              "    .dataframe tbody tr th:only-of-type {\n",
              "        vertical-align: middle;\n",
              "    }\n",
              "\n",
              "    .dataframe tbody tr th {\n",
              "        vertical-align: top;\n",
              "    }\n",
              "\n",
              "    .dataframe thead th {\n",
              "        text-align: right;\n",
              "    }\n",
              "</style>\n",
              "<table border=\"1\" class=\"dataframe\">\n",
              "  <thead>\n",
              "    <tr style=\"text-align: right;\">\n",
              "      <th></th>\n",
              "      <th>year</th>\n",
              "      <th>state</th>\n",
              "      <th>state_po</th>\n",
              "      <th>county</th>\n",
              "      <th>FIPS</th>\n",
              "      <th>office</th>\n",
              "      <th>candidate</th>\n",
              "      <th>party</th>\n",
              "      <th>candidatevotes</th>\n",
              "      <th>totalvotes</th>\n",
              "      <th>version</th>\n",
              "      <th>percent_of_votes</th>\n",
              "    </tr>\n",
              "  </thead>\n",
              "  <tbody>\n",
              "    <tr>\n",
              "      <th>40517</th>\n",
              "      <td>2016</td>\n",
              "      <td>Alabama</td>\n",
              "      <td>AL</td>\n",
              "      <td>Autauga</td>\n",
              "      <td>1001</td>\n",
              "      <td>President</td>\n",
              "      <td>Hillary Clinton</td>\n",
              "      <td>democrat</td>\n",
              "      <td>5936</td>\n",
              "      <td>24973</td>\n",
              "      <td>20191203</td>\n",
              "      <td>0.237697</td>\n",
              "    </tr>\n",
              "    <tr>\n",
              "      <th>40518</th>\n",
              "      <td>2016</td>\n",
              "      <td>Alabama</td>\n",
              "      <td>AL</td>\n",
              "      <td>Autauga</td>\n",
              "      <td>1001</td>\n",
              "      <td>President</td>\n",
              "      <td>Donald Trump</td>\n",
              "      <td>republican</td>\n",
              "      <td>18172</td>\n",
              "      <td>24973</td>\n",
              "      <td>20191203</td>\n",
              "      <td>0.727666</td>\n",
              "    </tr>\n",
              "    <tr>\n",
              "      <th>40519</th>\n",
              "      <td>2016</td>\n",
              "      <td>Alabama</td>\n",
              "      <td>AL</td>\n",
              "      <td>Autauga</td>\n",
              "      <td>1001</td>\n",
              "      <td>President</td>\n",
              "      <td>Other</td>\n",
              "      <td>Missing</td>\n",
              "      <td>865</td>\n",
              "      <td>24973</td>\n",
              "      <td>20191203</td>\n",
              "      <td>0.0346374</td>\n",
              "    </tr>\n",
              "    <tr>\n",
              "      <th>40520</th>\n",
              "      <td>2016</td>\n",
              "      <td>Alabama</td>\n",
              "      <td>AL</td>\n",
              "      <td>Baldwin</td>\n",
              "      <td>1003</td>\n",
              "      <td>President</td>\n",
              "      <td>Hillary Clinton</td>\n",
              "      <td>democrat</td>\n",
              "      <td>18458</td>\n",
              "      <td>95215</td>\n",
              "      <td>20191203</td>\n",
              "      <td>0.193856</td>\n",
              "    </tr>\n",
              "    <tr>\n",
              "      <th>40521</th>\n",
              "      <td>2016</td>\n",
              "      <td>Alabama</td>\n",
              "      <td>AL</td>\n",
              "      <td>Baldwin</td>\n",
              "      <td>1003</td>\n",
              "      <td>President</td>\n",
              "      <td>Donald Trump</td>\n",
              "      <td>republican</td>\n",
              "      <td>72883</td>\n",
              "      <td>95215</td>\n",
              "      <td>20191203</td>\n",
              "      <td>0.765457</td>\n",
              "    </tr>\n",
              "    <tr>\n",
              "      <th>...</th>\n",
              "      <td>...</td>\n",
              "      <td>...</td>\n",
              "      <td>...</td>\n",
              "      <td>...</td>\n",
              "      <td>...</td>\n",
              "      <td>...</td>\n",
              "      <td>...</td>\n",
              "      <td>...</td>\n",
              "      <td>...</td>\n",
              "      <td>...</td>\n",
              "      <td>...</td>\n",
              "      <td>...</td>\n",
              "    </tr>\n",
              "    <tr>\n",
              "      <th>50519</th>\n",
              "      <td>2016</td>\n",
              "      <td>Alaska</td>\n",
              "      <td>AK</td>\n",
              "      <td>District 40</td>\n",
              "      <td>2040</td>\n",
              "      <td>President</td>\n",
              "      <td>Donald Trump</td>\n",
              "      <td>republican</td>\n",
              "      <td>1377</td>\n",
              "      <td>4610</td>\n",
              "      <td>20191203</td>\n",
              "      <td>0.298698</td>\n",
              "    </tr>\n",
              "    <tr>\n",
              "      <th>50520</th>\n",
              "      <td>2016</td>\n",
              "      <td>Alaska</td>\n",
              "      <td>AK</td>\n",
              "      <td>District 40</td>\n",
              "      <td>2040</td>\n",
              "      <td>President</td>\n",
              "      <td>Other</td>\n",
              "      <td>Missing</td>\n",
              "      <td>895</td>\n",
              "      <td>4610</td>\n",
              "      <td>20191203</td>\n",
              "      <td>0.194143</td>\n",
              "    </tr>\n",
              "    <tr>\n",
              "      <th>50521</th>\n",
              "      <td>2016</td>\n",
              "      <td>Alaska</td>\n",
              "      <td>Missing</td>\n",
              "      <td>District 99</td>\n",
              "      <td>2099</td>\n",
              "      <td>President</td>\n",
              "      <td>Hillary Clinton</td>\n",
              "      <td>democrat</td>\n",
              "      <td>274</td>\n",
              "      <td>5056</td>\n",
              "      <td>20191203</td>\n",
              "      <td>0.054193</td>\n",
              "    </tr>\n",
              "    <tr>\n",
              "      <th>50522</th>\n",
              "      <td>2016</td>\n",
              "      <td>Alaska</td>\n",
              "      <td>Missing</td>\n",
              "      <td>District 99</td>\n",
              "      <td>2099</td>\n",
              "      <td>President</td>\n",
              "      <td>Donald Trump</td>\n",
              "      <td>republican</td>\n",
              "      <td>40</td>\n",
              "      <td>5056</td>\n",
              "      <td>20191203</td>\n",
              "      <td>0.00791139</td>\n",
              "    </tr>\n",
              "    <tr>\n",
              "      <th>50523</th>\n",
              "      <td>2016</td>\n",
              "      <td>Alaska</td>\n",
              "      <td>Missing</td>\n",
              "      <td>District 99</td>\n",
              "      <td>2099</td>\n",
              "      <td>President</td>\n",
              "      <td>Other</td>\n",
              "      <td>Missing</td>\n",
              "      <td>28</td>\n",
              "      <td>5056</td>\n",
              "      <td>20191203</td>\n",
              "      <td>0.00553797</td>\n",
              "    </tr>\n",
              "  </tbody>\n",
              "</table>\n",
              "<p>9474 rows × 12 columns</p>\n",
              "</div>"
            ],
            "text/plain": [
              "       year    state state_po  ... totalvotes   version percent_of_votes\n",
              "40517  2016  Alabama       AL  ...      24973  20191203         0.237697\n",
              "40518  2016  Alabama       AL  ...      24973  20191203         0.727666\n",
              "40519  2016  Alabama       AL  ...      24973  20191203        0.0346374\n",
              "40520  2016  Alabama       AL  ...      95215  20191203         0.193856\n",
              "40521  2016  Alabama       AL  ...      95215  20191203         0.765457\n",
              "...     ...      ...      ...  ...        ...       ...              ...\n",
              "50519  2016   Alaska       AK  ...       4610  20191203         0.298698\n",
              "50520  2016   Alaska       AK  ...       4610  20191203         0.194143\n",
              "50521  2016   Alaska  Missing  ...       5056  20191203         0.054193\n",
              "50522  2016   Alaska  Missing  ...       5056  20191203       0.00791139\n",
              "50523  2016   Alaska  Missing  ...       5056  20191203       0.00553797\n",
              "\n",
              "[9474 rows x 12 columns]"
            ]
          },
          "metadata": {
            "tags": []
          },
          "execution_count": 48
        }
      ]
    },
    {
      "cell_type": "code",
      "metadata": {
        "id": "KV2fRlS-dUf6",
        "colab_type": "code",
        "outputId": "3c1b0b14-7a60-4f68-b281-5b10edfaa038",
        "colab": {
          "base_uri": "https://localhost:8080/",
          "height": 119
        }
      },
      "source": [
        "tree"
      ],
      "execution_count": 54,
      "outputs": [
        {
          "output_type": "execute_result",
          "data": {
            "text/plain": [
              "DecisionTreeClassifier(class_weight=None, criterion='gini', max_depth=3,\n",
              "                       max_features=None, max_leaf_nodes=None,\n",
              "                       min_impurity_decrease=0.0, min_impurity_split=None,\n",
              "                       min_samples_leaf=1, min_samples_split=2,\n",
              "                       min_weight_fraction_leaf=0.0, presort=False,\n",
              "                       random_state=None, splitter='best')"
            ]
          },
          "metadata": {
            "tags": []
          },
          "execution_count": 54
        }
      ]
    },
    {
      "cell_type": "code",
      "metadata": {
        "id": "0GKtfCTOhtY-",
        "colab_type": "code",
        "colab": {}
      },
      "source": [
        "y_test = test"
      ],
      "execution_count": 0,
      "outputs": []
    }
  ]
}